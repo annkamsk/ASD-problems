{
  "nbformat": 4,
  "nbformat_minor": 0,
  "metadata": {
    "colab": {
      "name": "Ass3.ipynb",
      "provenance": [],
      "collapsed_sections": [],
      "mount_file_id": "1nPxJzkOFXteWMeeZI0Fa7-waELfYuZMY",
      "authorship_tag": "ABX9TyNcEcnE21Ey7+mF4idp3GD3",
      "include_colab_link": true
    },
    "kernelspec": {
      "name": "python3",
      "display_name": "Python 3"
    },
    "accelerator": "GPU"
  },
  "cells": [
    {
      "cell_type": "markdown",
      "metadata": {
        "id": "view-in-github",
        "colab_type": "text"
      },
      "source": [
        "<a href=\"https://colab.research.google.com/github/annkamsk/ASD-problems/blob/master/Ass3.ipynb\" target=\"_parent\"><img src=\"https://colab.research.google.com/assets/colab-badge.svg\" alt=\"Open In Colab\"/></a>"
      ]
    },
    {
      "cell_type": "code",
      "metadata": {
        "id": "70T7A0PAoZ5g",
        "colab_type": "code",
        "colab": {}
      },
      "source": [
        "import numpy as np\n",
        "\n",
        "import pandas as pd \n",
        "from pandas import IntervalDtype\n",
        "import matplotlib.pyplot as plt\n",
        "import torch\n",
        "import torch.nn as nn\n",
        "import torch.nn.functional as F\n",
        "import torch.optim as optim\n",
        "from torch.autograd import Variable\n",
        "from sklearn.model_selection import train_test_split\n",
        "from torch.utils.data import DataLoader, TensorDataset, Dataset"
      ],
      "execution_count": 0,
      "outputs": []
    },
    {
      "cell_type": "code",
      "metadata": {
        "id": "XV7qP8I-pwXf",
        "colab_type": "code",
        "outputId": "e0ac7edd-d244-4732-aaeb-3a040563406c",
        "colab": {
          "base_uri": "https://localhost:8080/",
          "height": 607
        }
      },
      "source": [
        "TRAIN_PATH = '/content/drive/My Drive/MIM/dl_lab/ass3/train_x.csv'\n",
        "TRAIN_LABEL_PATH = '/content/drive/My Drive/MIM/dl_lab/ass3/train_y.csv'\n",
        "TEST_PATH = '/content/drive/My Drive/MIM/dl_lab/ass3/test_x.csv'\n",
        "TEST_LABEL_PATH = '/content/drive/My Drive/MIM/dl_lab/ass3/test_y.csv'\n",
        "BEST_PATH = '/content/drive/My Drive/MIM/dl_lab/ass3/best.pth'\n",
        "\n",
        "class Config:\n",
        "  def __init__(self, bs=4, epochs=5, output=4, inputs=2, hidden=2, seq_len=5, layers=1, trunc=False):\n",
        "    self.bs = bs\n",
        "    self.epochs = epochs\n",
        "    self.output = output\n",
        "    self.inputs = inputs\n",
        "    self.hidden = hidden\n",
        "    self.seq_len = seq_len\n",
        "    self.layers = layers\n",
        "    self.trunc = trunc\n",
        "\n",
        "\n",
        "class MyDataset(Dataset):\n",
        "    def __init__(self, data, col):\n",
        "        self.data = data\n",
        "        self.label = col\n",
        "\n",
        "    def __len__(self):\n",
        "        return self.data.shape[0]\n",
        "\n",
        "    def __getitem__(self, index):\n",
        "        return self.data[index], self.label[index]\n",
        "\n",
        "\n",
        "train_csv = pd.read_csv(TRAIN_PATH, header=None).values\n",
        "train_labels_csv = pd.read_csv(TRAIN_LABEL_PATH,header=None,dtype=np.int64).values\n",
        "test_csv = pd.read_csv(TEST_PATH, header=None).values\n",
        "test_labels_csv = pd.read_csv(TEST_LABEL_PATH,header=None,dtype=np.int64).values\n",
        "\n",
        "train = []\n",
        "for row in train_csv:\n",
        "  train.append([[int(v) for v in val.split('-')] for val in row])\n",
        "train = np.array(train)\n",
        "\n",
        "test = []\n",
        "for row in test_csv:\n",
        "  test.append([[int(v) for v in val.split('-')] for val in row])\n",
        "test = np.array(test)\n",
        "\n",
        "train_torch = torch.from_numpy(train)\n",
        "target_torch = torch.from_numpy(train_labels_csv)\n",
        "test_torch = torch.from_numpy(test)\n",
        "test_target_torch = torch.from_numpy(test_labels_csv)\n",
        "\n",
        "train = MyDataset(train_torch, target_torch)\n",
        "train_loader = DataLoader(train, batch_size = Config().bs, shuffle=True)\n",
        "test = MyDataset(test_torch, test_target_torch)\n",
        "test_loader = DataLoader(test, batch_size = Config().bs, shuffle=False)\n",
        "\n",
        "def show_movement(row, label):\n",
        "  xx, yy = np.meshgrid(np.arange(10), np.arange(10), indexing='ij')\n",
        "\n",
        "  def get_mesh(row):\n",
        "    V = []\n",
        "    row = np.array(row)\n",
        "    originX, originY = [], []\n",
        "    for a, b in zip(row, row[1:]):\n",
        "      originX.append(a[0])\n",
        "      originY.append(a[1])\n",
        "      vec = b - a\n",
        "      V.append([vec[0], vec[1]])\n",
        "    return np.array(V), np.array(originX), np.array(originY)\n",
        "\n",
        "  Z, oX, oY = get_mesh(row)\n",
        "  fig = plt.figure(figsize=(10,10))\n",
        "  ax = fig.add_subplot(1, 1, 1)\n",
        "  ax.scatter(xx, yy)\n",
        "  plt.quiver(oX, oY, Z[:,0], Z[:,1], color=['r','indigo','goldenrod','aquamarine'], angles='xy', scale_units='xy', scale=1)\n",
        "  plt.title(label, color='w')\n",
        "  plt.show()\n",
        "\n",
        "items = iter(train_loader).next()\n",
        "show_movement(items[0][0], items[1][0])\n"
      ],
      "execution_count": 140,
      "outputs": [
        {
          "output_type": "display_data",
          "data": {
            "image/png": "[encoded data removed]",
            "text/plain": [
              "<Figure size 720x720 with 1 Axes>"
            ]
          },
          "metadata": {
            "tags": [],
            "needs_background": "light"
          }
        }
      ]
    },
    {
      "cell_type": "markdown",
      "metadata": {
        "id": "2140nX3oeLzZ",
        "colab_type": "text"
      },
      "source": [
        "## Data analysis\n",
        "3: LD, RG, RD, LG  (to the bottom left?)  \n",
        "1: (to the upper left), RD, RG, LG, LG; LD, LG, LD, LG  \n",
        "0: (to the upper right?), LG, RG, RG, RD; RGx4    \n",
        "2: (to bottom right) RG, LG, RD, LD; \n",
        "RD, RD, LD, RD; \n",
        "RD, LG, RG, RG  "
      ]
    },
    {
      "cell_type": "code",
      "metadata": {
        "id": "eu5jlwN9rvqq",
        "colab_type": "code",
        "colab": {}
      },
      "source": [
        ""
      ],
      "execution_count": 0,
      "outputs": []
    },
    {
      "cell_type": "code",
      "metadata": {
        "id": "O7cimDiVns3v",
        "colab_type": "code",
        "colab": {}
      },
      "source": [
        "import random\n",
        "\n",
        "class RNNet(nn.Module):\n",
        "  def __init__(self, input_size, output_size, hidden_dim, bs, layers=1, trunc=False):\n",
        "    super(RNNet, self).__init__()\n",
        "    self.input_size = input_size\n",
        "    self.output_size = output_size\n",
        "    self.layers = layers\n",
        "    self.hidden_dim = hidden_dim\n",
        "    self.bs = bs\n",
        "    self.trunc = trunc\n",
        "    random.seed()\n",
        "\n",
        "    self.lstm = nn.LSTM(\n",
        "        input_size=input_size, \n",
        "        hidden_size=hidden_dim, \n",
        "        num_layers=layers,\n",
        "        batch_first=True)\n",
        "    self.seq = nn.Linear(hidden_dim, output_size)\n",
        "    # nn.Sequential(\n",
        "    #     nn.Linear(hidden_dim, hidden_dim),\n",
        "    #     nn.ReLU(True),\n",
        "    #     nn.Linear(hidden_dim, hidden_dim),\n",
        "    #     nn.ReLU(True),\n",
        "    #     nn.Linear(hidden_dim, output_size)\n",
        "    # )\n",
        "  \n",
        "  def init_hidden(self):\n",
        "    h = Variable(torch.zeros(self.layers, self.bs, self.hidden_dim).cuda())\n",
        "    c = Variable(torch.zeros(self.layers, self.bs, self.hidden_dim).cuda())\n",
        "    return (h, c)\n",
        "\n",
        "  def pad_input(self, x):\n",
        "    # using variable seq lengts: https://stackoverflow.com/a/49473068/7196167\n",
        "    if self.trunc and random.random() >= 0.5:\n",
        "      x = x[:,:4,:]\n",
        "      seq_lengths = [4] * self.bs\n",
        "    else:\n",
        "      seq_lengths = [5] * self.bs\n",
        "    res = nn.utils.rnn.pack_padded_sequence(x, seq_lengths, batch_first=True)\n",
        "    return res\n",
        "\n",
        "  def forward(self, x):\n",
        "    x = x.float()    \n",
        "    lstm_input = self.pad_input(x)\n",
        "    # x = (bs, seq_len=5, feature=2)\n",
        "    lstm_out, hidden = self.lstm(lstm_input, self.init_hidden())\n",
        "    lstm_out, _ = nn.utils.rnn.pad_packed_sequence(lstm_out, batch_first=True)\n",
        "    y = self.seq(lstm_out[:, -1, :])\n",
        "    return y\n"
      ],
      "execution_count": 0,
      "outputs": []
    },
    {
      "cell_type": "markdown",
      "metadata": {
        "id": "pe9Gy7eGm7tt",
        "colab_type": "text"
      },
      "source": [
        "- input dimension: nr of variables (2)\n",
        "- hidden dimension: size of hidden and cell state at each time step\n",
        "- nr of layers (default 1)\n",
        "- output dimension: nr of classes (4)\n",
        "lstm_layer = nn.LSTM(input_dim, hidden_dim, n_layers, batch_first=True)\n",
        "\n",
        "https://blog.floydhub.com/long-short-term-memory-from-zero-to-hero-with-pytorch/"
      ]
    },
    {
      "cell_type": "markdown",
      "metadata": {
        "id": "C-jj4RWq1Tvi",
        "colab_type": "text"
      },
      "source": [
        "## Train definition"
      ]
    },
    {
      "cell_type": "code",
      "metadata": {
        "id": "LPELH3rfdS0D",
        "colab_type": "code",
        "colab": {}
      },
      "source": [
        "\n",
        "def test(model):\n",
        "  correct, total = 0., 0.\n",
        "  for data, target in test_loader:\n",
        "    data, target = data.cuda(), target.cuda()\n",
        "    out = model(data)\n",
        "    preds = F.log_softmax(out, dim=1).argmax(dim=1)\n",
        "    total += target.size(0)\n",
        "    correct += (preds == target.squeeze()).sum().item()\n",
        "  return correct / total\n",
        "\n",
        "def train_epoch(model, optimizer, criterion, epoch, best):\n",
        "  total, total_correct = 0., 0.\n",
        "  for idx, (data, target) in enumerate(train_loader):\n",
        "    model.train()\n",
        "    data, target = data.cuda(), target.cuda()\n",
        "    optimizer.zero_grad()\n",
        "    output = model(data)\n",
        "    loss = criterion(output, target.squeeze())\n",
        "    loss.backward()\n",
        "    optimizer.step()\n",
        "\n",
        "    if idx % 100 == 0:\n",
        "      model.eval()\n",
        "      acc = test(model)\n",
        "      print('Train epoch {}, idx: {}\\t Loss {:.4f}\\t Acc: {:.2f}%'.format(\n",
        "          epoch,\n",
        "          idx,\n",
        "          loss.item(),\n",
        "          acc * 100\n",
        "      ))\n",
        "      if acc > best:\n",
        "        best = acc\n",
        "        torch.save(model.state_dict(), BEST_PATH)\n",
        "\n",
        "def train(conf):\n",
        "  model = RNNet(conf.inputs, conf.output, conf.hidden, conf.bs, conf.layers, conf.trunc)\n",
        "  model.cuda()\n",
        "  lr = 0.0005\n",
        "  optimizer = optim.RMSprop(model.parameters(), lr=lr)\n",
        "  criterion = nn.CrossEntropyLoss()\n",
        "  best = 0.0\n",
        "  for epoch in range(conf.epochs):\n",
        "    train_epoch(model, optimizer, criterion, epoch, best)\n",
        "\n"
      ],
      "execution_count": 0,
      "outputs": []
    },
    {
      "cell_type": "markdown",
      "metadata": {
        "id": "IBn1FJdCW6J5",
        "colab_type": "text"
      },
      "source": [
        "## Train on raw data - truncated"
      ]
    },
    {
      "cell_type": "code",
      "metadata": {
        "id": "TklqNkFXgnel",
        "colab_type": "code",
        "colab": {
          "base_uri": "https://localhost:8080/",
          "height": 439
        },
        "outputId": "da8e4557-e8d7-4fdc-b505-873011ae4012"
      },
      "source": [
        "train(Config(bs=4, epochs=1, output=4, inputs=2, hidden=256, seq_len=5, layers=1, trunc=True))"
      ],
      "execution_count": 147,
      "outputs": [
        {
          "output_type": "stream",
          "text": [
            "Train epoch 0, idx: 0\t Loss 1.3762\t Acc: 27.50%\n",
            "Train epoch 0, idx: 100\t Loss 1.1831\t Acc: 38.30%\n",
            "Train epoch 0, idx: 200\t Loss 1.4453\t Acc: 55.30%\n",
            "Train epoch 0, idx: 300\t Loss 1.3143\t Acc: 53.70%\n",
            "Train epoch 0, idx: 400\t Loss 0.9617\t Acc: 52.50%\n",
            "Train epoch 0, idx: 500\t Loss 0.8231\t Acc: 53.10%\n",
            "Train epoch 0, idx: 600\t Loss 0.7775\t Acc: 53.40%\n",
            "Train epoch 0, idx: 700\t Loss 0.9119\t Acc: 58.10%\n",
            "Train epoch 0, idx: 800\t Loss 0.9072\t Acc: 60.80%\n",
            "Train epoch 0, idx: 900\t Loss 0.6889\t Acc: 61.00%\n",
            "Train epoch 0, idx: 1000\t Loss 0.9005\t Acc: 62.20%\n",
            "Train epoch 0, idx: 1100\t Loss 0.9674\t Acc: 61.10%\n",
            "Train epoch 0, idx: 1200\t Loss 0.4543\t Acc: 57.80%\n",
            "Train epoch 0, idx: 1300\t Loss 1.1945\t Acc: 63.60%\n",
            "Train epoch 0, idx: 1400\t Loss 0.4621\t Acc: 62.10%\n",
            "Train epoch 0, idx: 1500\t Loss 0.4397\t Acc: 63.10%\n",
            "Train epoch 0, idx: 1600\t Loss 1.3084\t Acc: 62.70%\n",
            "Train epoch 0, idx: 1700\t Loss 0.4154\t Acc: 63.40%\n",
            "Train epoch 0, idx: 1800\t Loss 1.0369\t Acc: 61.70%\n",
            "Train epoch 0, idx: 1900\t Loss 1.7852\t Acc: 63.90%\n",
            "Train epoch 0, idx: 2000\t Loss 1.5174\t Acc: 64.30%\n",
            "Train epoch 0, idx: 2100\t Loss 0.6307\t Acc: 63.10%\n",
            "Train epoch 0, idx: 2200\t Loss 0.4050\t Acc: 63.80%\n"
          ],
          "name": "stdout"
        }
      ]
    },
    {
      "cell_type": "markdown",
      "metadata": {
        "id": "LII30WTtXDZr",
        "colab_type": "text"
      },
      "source": [
        "## Train on raw data - not truncated"
      ]
    },
    {
      "cell_type": "code",
      "metadata": {
        "id": "A68dt2vUebJQ",
        "colab_type": "code",
        "colab": {
          "base_uri": "https://localhost:8080/",
          "height": 1000
        },
        "outputId": "1ebb3b8e-6ea1-4b0b-c4e6-5eae11fa8625"
      },
      "source": [
        "train(Config(bs=4, epochs=5, output=4, inputs=2, hidden=256, seq_len=5, layers=1, trunc=False))"
      ],
      "execution_count": 148,
      "outputs": [
        {
          "output_type": "stream",
          "text": [
            "Train epoch 0, idx: 0\t Loss 1.3792\t Acc: 24.90%\n",
            "Train epoch 0, idx: 100\t Loss 1.0769\t Acc: 45.30%\n",
            "Train epoch 0, idx: 200\t Loss 0.9148\t Acc: 51.40%\n",
            "Train epoch 0, idx: 300\t Loss 1.0761\t Acc: 61.50%\n",
            "Train epoch 0, idx: 400\t Loss 0.9671\t Acc: 58.90%\n",
            "Train epoch 0, idx: 500\t Loss 1.1472\t Acc: 65.20%\n",
            "Train epoch 0, idx: 600\t Loss 1.1468\t Acc: 64.90%\n",
            "Train epoch 0, idx: 700\t Loss 1.2790\t Acc: 66.20%\n",
            "Train epoch 0, idx: 800\t Loss 0.5091\t Acc: 62.20%\n",
            "Train epoch 0, idx: 900\t Loss 1.6837\t Acc: 67.10%\n",
            "Train epoch 0, idx: 1000\t Loss 1.0141\t Acc: 67.00%\n",
            "Train epoch 0, idx: 1100\t Loss 0.7244\t Acc: 63.30%\n",
            "Train epoch 0, idx: 1200\t Loss 0.9620\t Acc: 62.90%\n",
            "Train epoch 0, idx: 1300\t Loss 1.8673\t Acc: 62.00%\n",
            "Train epoch 0, idx: 1400\t Loss 0.9960\t Acc: 63.50%\n",
            "Train epoch 0, idx: 1500\t Loss 1.1523\t Acc: 66.40%\n",
            "Train epoch 0, idx: 1600\t Loss 0.7686\t Acc: 67.40%\n",
            "Train epoch 0, idx: 1700\t Loss 1.5153\t Acc: 67.00%\n",
            "Train epoch 0, idx: 1800\t Loss 0.7608\t Acc: 66.80%\n",
            "Train epoch 0, idx: 1900\t Loss 0.7094\t Acc: 67.60%\n",
            "Train epoch 0, idx: 2000\t Loss 0.8282\t Acc: 66.40%\n",
            "Train epoch 0, idx: 2100\t Loss 0.4171\t Acc: 67.60%\n",
            "Train epoch 0, idx: 2200\t Loss 0.7408\t Acc: 66.50%\n",
            "Train epoch 1, idx: 0\t Loss 0.9522\t Acc: 66.90%\n",
            "Train epoch 1, idx: 100\t Loss 0.9545\t Acc: 67.90%\n",
            "Train epoch 1, idx: 200\t Loss 0.8203\t Acc: 67.40%\n",
            "Train epoch 1, idx: 300\t Loss 0.5521\t Acc: 68.60%\n",
            "Train epoch 1, idx: 400\t Loss 1.7458\t Acc: 68.60%\n",
            "Train epoch 1, idx: 500\t Loss 0.7906\t Acc: 67.90%\n",
            "Train epoch 1, idx: 600\t Loss 0.7555\t Acc: 66.00%\n",
            "Train epoch 1, idx: 700\t Loss 1.0029\t Acc: 66.60%\n",
            "Train epoch 1, idx: 800\t Loss 0.3992\t Acc: 67.10%\n",
            "Train epoch 1, idx: 900\t Loss 2.2659\t Acc: 65.50%\n",
            "Train epoch 1, idx: 1000\t Loss 0.9917\t Acc: 67.40%\n",
            "Train epoch 1, idx: 1100\t Loss 1.3456\t Acc: 67.50%\n",
            "Train epoch 1, idx: 1200\t Loss 0.7915\t Acc: 67.90%\n",
            "Train epoch 1, idx: 1300\t Loss 1.3985\t Acc: 65.50%\n",
            "Train epoch 1, idx: 1400\t Loss 1.7303\t Acc: 62.60%\n",
            "Train epoch 1, idx: 1500\t Loss 0.2925\t Acc: 66.40%\n",
            "Train epoch 1, idx: 1600\t Loss 0.9031\t Acc: 67.00%\n",
            "Train epoch 1, idx: 1700\t Loss 1.1577\t Acc: 68.60%\n",
            "Train epoch 1, idx: 1800\t Loss 0.2725\t Acc: 65.70%\n",
            "Train epoch 1, idx: 1900\t Loss 1.0741\t Acc: 67.70%\n",
            "Train epoch 1, idx: 2000\t Loss 0.7683\t Acc: 67.90%\n",
            "Train epoch 1, idx: 2100\t Loss 0.1874\t Acc: 67.30%\n",
            "Train epoch 1, idx: 2200\t Loss 0.5531\t Acc: 65.40%\n",
            "Train epoch 2, idx: 0\t Loss 0.4234\t Acc: 66.30%\n",
            "Train epoch 2, idx: 100\t Loss 0.4774\t Acc: 67.10%\n",
            "Train epoch 2, idx: 200\t Loss 1.0294\t Acc: 66.80%\n",
            "Train epoch 2, idx: 300\t Loss 0.9563\t Acc: 65.80%\n",
            "Train epoch 2, idx: 400\t Loss 0.8118\t Acc: 67.80%\n",
            "Train epoch 2, idx: 500\t Loss 0.3989\t Acc: 67.80%\n",
            "Train epoch 2, idx: 600\t Loss 1.1784\t Acc: 65.90%\n",
            "Train epoch 2, idx: 700\t Loss 0.7773\t Acc: 66.20%\n",
            "Train epoch 2, idx: 800\t Loss 1.0803\t Acc: 67.70%\n",
            "Train epoch 2, idx: 900\t Loss 0.9235\t Acc: 66.60%\n",
            "Train epoch 2, idx: 1000\t Loss 0.2469\t Acc: 68.60%\n",
            "Train epoch 2, idx: 1100\t Loss 1.1269\t Acc: 67.10%\n",
            "Train epoch 2, idx: 1200\t Loss 0.6761\t Acc: 68.90%\n",
            "Train epoch 2, idx: 1300\t Loss 0.8222\t Acc: 68.40%\n",
            "Train epoch 2, idx: 1400\t Loss 1.0138\t Acc: 67.40%\n",
            "Train epoch 2, idx: 1500\t Loss 0.7959\t Acc: 66.80%\n",
            "Train epoch 2, idx: 1600\t Loss 1.4041\t Acc: 69.00%\n",
            "Train epoch 2, idx: 1700\t Loss 0.9451\t Acc: 66.40%\n",
            "Train epoch 2, idx: 1800\t Loss 1.4176\t Acc: 67.70%\n",
            "Train epoch 2, idx: 1900\t Loss 0.2518\t Acc: 66.70%\n",
            "Train epoch 2, idx: 2000\t Loss 0.9726\t Acc: 68.60%\n",
            "Train epoch 2, idx: 2100\t Loss 0.3975\t Acc: 67.50%\n",
            "Train epoch 2, idx: 2200\t Loss 0.4609\t Acc: 68.10%\n",
            "Train epoch 3, idx: 0\t Loss 0.8447\t Acc: 68.00%\n",
            "Train epoch 3, idx: 100\t Loss 0.5525\t Acc: 67.40%\n",
            "Train epoch 3, idx: 200\t Loss 1.3713\t Acc: 65.70%\n",
            "Train epoch 3, idx: 300\t Loss 1.0502\t Acc: 65.80%\n",
            "Train epoch 3, idx: 400\t Loss 0.3171\t Acc: 67.30%\n",
            "Train epoch 3, idx: 500\t Loss 0.2757\t Acc: 65.90%\n",
            "Train epoch 3, idx: 600\t Loss 0.3447\t Acc: 66.40%\n",
            "Train epoch 3, idx: 700\t Loss 0.4483\t Acc: 66.60%\n",
            "Train epoch 3, idx: 800\t Loss 1.0770\t Acc: 67.10%\n",
            "Train epoch 3, idx: 900\t Loss 0.8041\t Acc: 66.60%\n",
            "Train epoch 3, idx: 1000\t Loss 1.0896\t Acc: 67.50%\n",
            "Train epoch 3, idx: 1100\t Loss 1.0757\t Acc: 65.80%\n",
            "Train epoch 3, idx: 1200\t Loss 0.8022\t Acc: 68.50%\n",
            "Train epoch 3, idx: 1300\t Loss 0.7387\t Acc: 65.80%\n",
            "Train epoch 3, idx: 1400\t Loss 0.5459\t Acc: 66.50%\n",
            "Train epoch 3, idx: 1500\t Loss 0.2964\t Acc: 68.00%\n",
            "Train epoch 3, idx: 1600\t Loss 1.2578\t Acc: 69.60%\n",
            "Train epoch 3, idx: 1700\t Loss 0.9971\t Acc: 66.50%\n",
            "Train epoch 3, idx: 1800\t Loss 0.7573\t Acc: 67.20%\n",
            "Train epoch 3, idx: 1900\t Loss 0.1635\t Acc: 68.70%\n",
            "Train epoch 3, idx: 2000\t Loss 0.5297\t Acc: 67.60%\n",
            "Train epoch 3, idx: 2100\t Loss 0.4256\t Acc: 66.90%\n",
            "Train epoch 3, idx: 2200\t Loss 1.7214\t Acc: 66.90%\n",
            "Train epoch 4, idx: 0\t Loss 1.3100\t Acc: 67.70%\n",
            "Train epoch 4, idx: 100\t Loss 0.8486\t Acc: 67.40%\n",
            "Train epoch 4, idx: 200\t Loss 1.1514\t Acc: 67.70%\n",
            "Train epoch 4, idx: 300\t Loss 0.9677\t Acc: 67.40%\n",
            "Train epoch 4, idx: 400\t Loss 0.3802\t Acc: 68.30%\n",
            "Train epoch 4, idx: 500\t Loss 0.6663\t Acc: 67.70%\n",
            "Train epoch 4, idx: 600\t Loss 0.9937\t Acc: 68.90%\n",
            "Train epoch 4, idx: 700\t Loss 0.4239\t Acc: 65.50%\n",
            "Train epoch 4, idx: 800\t Loss 0.6521\t Acc: 68.30%\n",
            "Train epoch 4, idx: 900\t Loss 0.7852\t Acc: 65.20%\n",
            "Train epoch 4, idx: 1000\t Loss 0.8394\t Acc: 67.10%\n",
            "Train epoch 4, idx: 1100\t Loss 1.2137\t Acc: 68.10%\n",
            "Train epoch 4, idx: 1200\t Loss 0.2893\t Acc: 67.40%\n",
            "Train epoch 4, idx: 1300\t Loss 0.6565\t Acc: 66.60%\n",
            "Train epoch 4, idx: 1400\t Loss 0.3978\t Acc: 67.40%\n",
            "Train epoch 4, idx: 1500\t Loss 0.5737\t Acc: 67.30%\n",
            "Train epoch 4, idx: 1600\t Loss 0.2656\t Acc: 67.90%\n",
            "Train epoch 4, idx: 1700\t Loss 0.5623\t Acc: 67.00%\n",
            "Train epoch 4, idx: 1800\t Loss 0.7933\t Acc: 68.10%\n",
            "Train epoch 4, idx: 1900\t Loss 0.7378\t Acc: 64.80%\n",
            "Train epoch 4, idx: 2000\t Loss 1.4806\t Acc: 67.50%\n",
            "Train epoch 4, idx: 2100\t Loss 0.9054\t Acc: 67.40%\n",
            "Train epoch 4, idx: 2200\t Loss 1.9283\t Acc: 68.90%\n"
          ],
          "name": "stdout"
        }
      ]
    },
    {
      "cell_type": "code",
      "metadata": {
        "id": "1xD06-0OXJ5_",
        "colab_type": "code",
        "colab": {}
      },
      "source": [
        ""
      ],
      "execution_count": 0,
      "outputs": []
    }
  ]
}